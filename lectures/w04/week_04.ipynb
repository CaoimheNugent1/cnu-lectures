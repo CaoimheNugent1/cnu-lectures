{
 "cells": [
  {
   "cell_type": "markdown",
   "id": "9164047b",
   "metadata": {},
   "source": [
    "# Gaussian elimination a.k.a \"matrix operations\"\n",
    "\n",
    "<br>\n",
    "\n",
    "$$\\Large\n",
    "A x =y$$\n",
    "\n",
    "<br>\n",
    "\n",
    "$$\\large\n",
    "\\left(\n",
    "\\begin{array}{cccc}\n",
    " a_{0,0} & a_{0,1} & a_{0,2} &\n",
    "   a_{0,3} \\\\\n",
    " a_{1,0} & a_{1,1} & a_{1,2} &\n",
    "   a_{1,3} \\\\\n",
    " a_{2,0} & a_{2,1} & a_{2,2} &\n",
    "   a_{2,3} \\\\\n",
    " a_{3,0} & a_{3,1} & a_{3,2} &\n",
    "   a_{3,3} \\\\\n",
    "\\end{array}\n",
    "\\right) \\left(\n",
    "\\begin{array}{c}\n",
    " x_{0} \\\\\n",
    " x_{1} \\\\\n",
    " x_{2} \\\\\n",
    " x_{3} \\\\\n",
    "\\end{array}\n",
    "\\right) \\ = \\ \\left(\n",
    "\\begin{array}{c}\n",
    " y_{0} \\\\\n",
    " y_{1} \\\\\n",
    " y_{2} \\\\\n",
    " y_{3} \\\\\n",
    "\\end{array}\n",
    "\\right)\n",
    "$$\n",
    "\n",
    "<br>\n",
    "<br>\n",
    "\n",
    "## Augmented matrix\n",
    "\n",
    "$$\\large\n",
    "S \\ = \\ \\left(\n",
    "\\begin{array}{cccccc}\n",
    " a_{0,0} & a_{0,1} & a_{0,2} &\n",
    "   a_{0,3} & | & y_{3} \\\\\n",
    " a_{1,0} & a_{1,1} & a_{1,2} &\n",
    "   a_{1,3} & | & y_{3} \\\\\n",
    " a_{2,0} & a_{2,1} & a_{2,2} &\n",
    "   a_{2,3} & | & y_{3} \\\\\n",
    " a_{3,0} & a_{3,1} & a_{3,2} &\n",
    "   a_{3,3} & | & y_{3} \\\\\n",
    "\\end{array}\n",
    "\\right)\n",
    "$$\n",
    "\n",
    "\n",
    "\n",
    "<br>\n",
    "<br>\n",
    "\n",
    "# The rules\n",
    "* Multiply any row by a constant.\n",
    "\n",
    "$$\\large\n",
    "r \\ \\leftarrow \\ c\\, r \n",
    "$$\n",
    "\n",
    "\n",
    "* Add any row to another.\n",
    "\n",
    "  $$\\large\n",
    "  r \\ \\leftarrow \\ r + s \n",
    "  $$\n",
    "\n",
    "* Swap rows\n",
    "\n",
    "  $$\\large\n",
    "  \\text{t} \\ \\leftarrow \\ r \n",
    "  $$\n",
    "  \n",
    "  $$\\large\n",
    "  \\text{r} \\ \\leftarrow \\ \\text{s} \n",
    "  $$\n",
    "  \n",
    "  $$\\large\n",
    "  \\text{s} \\ \\leftarrow \\ \\text{t} \n",
    "  $$\n",
    "\n",
    "I'm using the $\\leftarrow$ to mean what the `=` sign usually means for computer languages (e.g. Python). It means taking the quantity on the right-hand side and making the left-hand side symbol equal to that thing. The $\\leftarrow$ notation is common in numerical analysis articles and some textbooks.\n",
    "\n",
    "<br>\n",
    "<br>\n",
    "\n",
    "However, the swap is (technically) redundant. \n",
    "\n",
    "$$\\large\n",
    "r \\ \\leftarrow \\ r + s \n",
    "$$\n",
    "$$\n",
    "\\large\n",
    "s \\ \\leftarrow \\ r - s \n",
    "$$\n",
    "$$\n",
    "\\large\n",
    "r \\ \\leftarrow \\ r - s\n",
    "$$\n",
    "\n",
    "I'm not recommending that you use this trick when swapping data. But it's nice to know that row addition and scalar multiplication are all you need.  \n",
    "\n",
    "## In-place operations\n",
    "\n",
    "Given the concept of $\\leftarrow$, many programming languages come with ``in-place'' operations that do simple arithmetic to a variable and put the result back into the same variable.\n",
    "\n",
    "\n",
    "<br>\n",
    "<br>"
   ]
  },
  {
   "cell_type": "code",
   "execution_count": 41,
   "id": "6270ef21-d03c-48a1-80b1-3194ae83092f",
   "metadata": {},
   "outputs": [
    {
     "name": "stdout",
     "output_type": "stream",
     "text": [
      "3 2\n",
      "2 3\n"
     ]
    }
   ],
   "source": [
    "r = 3\n",
    "s = 2\n",
    "print(r,s)\n",
    "\n",
    "r += s  # r = r + s\n",
    "s *= -1 # s = -s\n",
    "s += r  # s = s + r\n",
    "r -= s  # r = r - s\n",
    "print(r,s)"
   ]
  },
  {
   "cell_type": "code",
   "execution_count": 42,
   "id": "86f7f636",
   "metadata": {},
   "outputs": [],
   "source": [
    "import numpy as np\n",
    "np.set_printoptions(precision=4,suppress=True)"
   ]
  },
  {
   "cell_type": "code",
   "execution_count": 43,
   "id": "b0974d63",
   "metadata": {},
   "outputs": [
    {
     "name": "stdout",
     "output_type": "stream",
     "text": [
      "[[0.7632 0.513  0.8242 0.6842 0.7759]\n",
      " [0.8137 0.219  0.6289 0.3192 0.1158]\n",
      " [0.6506 0.6702 0.1963 0.9889 0.452 ]\n",
      " [0.9957 0.796  0.7916 0.0156 0.8732]\n",
      " [0.3793 0.3118 0.211  0.2489 0.0229]] \n",
      "\n",
      "[0.3646 0.3995 0.6426 0.5873 0.4153] \n",
      "\n"
     ]
    }
   ],
   "source": [
    "n = 5\n",
    "A = np.random.random((n,n))\n",
    "y = np.random.random((n,))\n",
    "\n",
    "print(A,'\\n')\n",
    "print(y,'\\n')"
   ]
  },
  {
   "cell_type": "code",
   "execution_count": 44,
   "id": "f40ecb8d",
   "metadata": {},
   "outputs": [
    {
     "name": "stdout",
     "output_type": "stream",
     "text": [
      "[[-2.5011  2.9824  1.8875  0.9681 -4.5083]\n",
      " [ 0.6571 -2.7164 -1.0595  0.1707  5.8748]\n",
      " [ 2.6577 -1.3852 -2.5225 -0.9916  4.5538]\n",
      " [ 0.7501  0.0025  0.4894 -0.9219  0.0658]\n",
      " [-0.1701  0.3314  1.0918  0.8011 -4.3445]] \n",
      "\n"
     ]
    }
   ],
   "source": [
    "A_inv = np.linalg.inv(A)\n",
    "print(A_inv,'\\n')"
   ]
  },
  {
   "cell_type": "code",
   "execution_count": 45,
   "id": "15e4f9ea-e507-4d39-9074-ec6888176588",
   "metadata": {},
   "outputs": [
    {
     "data": {
      "text/plain": [
       "array([[ 1., -0., -0., -0., -0.],\n",
       "       [-0.,  1., -0.,  0., -0.],\n",
       "       [ 0.,  0.,  1.,  0.,  0.],\n",
       "       [ 0., -0.,  0.,  1., -0.],\n",
       "       [-0.,  0.,  0.,  0.,  1.]])"
      ]
     },
     "execution_count": 45,
     "metadata": {},
     "output_type": "execute_result"
    }
   ],
   "source": [
    "A_inv @ A "
   ]
  },
  {
   "cell_type": "code",
   "execution_count": 46,
   "id": "ded76d86",
   "metadata": {},
   "outputs": [
    {
     "name": "stdout",
     "output_type": "stream",
     "text": [
      "[ 0.1892  1.0132  0.1032  0.0749 -0.5616] \n",
      "\n"
     ]
    }
   ],
   "source": [
    "x = np.linalg.solve(A,y)\n",
    "print(x,'\\n')"
   ]
  },
  {
   "cell_type": "code",
   "execution_count": 47,
   "id": "38cbc7b0",
   "metadata": {},
   "outputs": [
    {
     "data": {
      "text/plain": [
       "1.1102230246251565e-16"
      ]
     },
     "execution_count": 47,
     "metadata": {},
     "output_type": "execute_result"
    }
   ],
   "source": [
    "np.max(np.abs(A @ x - y))"
   ]
  },
  {
   "cell_type": "code",
   "execution_count": 48,
   "id": "a67ad504-fb63-45e9-bb13-d69bb779db32",
   "metadata": {},
   "outputs": [],
   "source": [
    "def test_inverse_error(n):\n",
    "\n",
    "    A = np.random.random((n,n))\n",
    "    y = np.random.random((n,))\n",
    "\n",
    "    x = np.linalg.solve(A,y)\n",
    "\n",
    "    return np.max(np.abs(A @ x - y))"
   ]
  },
  {
   "cell_type": "code",
   "execution_count": 49,
   "id": "97846e30-1652-4b2f-9e34-b6efa0c1e1b7",
   "metadata": {},
   "outputs": [
    {
     "name": "stdout",
     "output_type": "stream",
     "text": [
      "9.43 ns ± 0.104 ns per loop (mean ± std. dev. of 7 runs, 100,000,000 loops each)\n"
     ]
    }
   ],
   "source": [
    "%timeit 1+1"
   ]
  },
  {
   "cell_type": "code",
   "execution_count": 50,
   "id": "5228283d-d983-4229-a3db-aadacf978515",
   "metadata": {},
   "outputs": [
    {
     "name": "stdout",
     "output_type": "stream",
     "text": [
      "9.06 µs ± 288 ns per loop (mean ± std. dev. of 7 runs, 100,000 loops each)\n"
     ]
    }
   ],
   "source": [
    "%timeit test_inverse_error(5)"
   ]
  },
  {
   "cell_type": "code",
   "execution_count": 51,
   "id": "e6a9a496-d71d-4773-acb5-9a5082fb18bf",
   "metadata": {},
   "outputs": [
    {
     "name": "stdout",
     "output_type": "stream",
     "text": [
      "41.3 µs ± 290 ns per loop (mean ± std. dev. of 7 runs, 10,000 loops each)\n"
     ]
    }
   ],
   "source": [
    "%timeit test_inverse_error(50)"
   ]
  },
  {
   "cell_type": "code",
   "execution_count": 52,
   "id": "17b3f695-285f-4659-9b98-557d28d3b304",
   "metadata": {},
   "outputs": [
    {
     "name": "stdout",
     "output_type": "stream",
     "text": [
      "6.17 ms ± 62.5 µs per loop (mean ± std. dev. of 7 runs, 100 loops each)\n"
     ]
    }
   ],
   "source": [
    "%timeit test_inverse_error(500)"
   ]
  },
  {
   "cell_type": "code",
   "execution_count": 53,
   "id": "6787afc5-cd79-41ad-8baf-51cfb4c7f1c5",
   "metadata": {},
   "outputs": [
    {
     "name": "stdout",
     "output_type": "stream",
     "text": [
      "4.34 s ± 53.4 ms per loop (mean ± std. dev. of 7 runs, 1 loop each)\n"
     ]
    }
   ],
   "source": [
    "%timeit test_inverse_error(5000)"
   ]
  },
  {
   "cell_type": "code",
   "execution_count": 54,
   "id": "d2088e76-6d4a-4f83-aed8-631f62592ce9",
   "metadata": {},
   "outputs": [],
   "source": [
    "def build_S(A,y): \n",
    "    \n",
    "    m, n = A.shape\n",
    "\n",
    "    S = np.zeros((m,n+1))\n",
    "\n",
    "    S[:,:-1] = A\n",
    "    S[:,-1]  = y\n",
    "    \n",
    "    return S"
   ]
  },
  {
   "cell_type": "code",
   "execution_count": 55,
   "id": "8acffb5e-f1e7-444e-8ef1-6696b19165e5",
   "metadata": {},
   "outputs": [
    {
     "name": "stdout",
     "output_type": "stream",
     "text": [
      "[[ 1.      0.6721  1.0799  0.8965  1.0167  0.4777]\n",
      " [ 0.     -0.3279 -0.2498 -0.4103 -0.7115  0.0108]\n",
      " [ 0.6506  0.6702  0.1963  0.9889  0.452   0.6426]\n",
      " [ 0.9957  0.796   0.7916  0.0156  0.8732  0.5873]\n",
      " [ 0.3793  0.3118  0.211   0.2489  0.0229  0.4153]]\n",
      "[[ 1.      0.6721  1.0799  0.8965  1.0167  0.4777]\n",
      " [ 0.     -0.3279 -0.2498 -0.4103 -0.7115  0.0108]\n",
      " [ 0.      0.233  -0.5062  0.4057 -0.2094  0.3318]\n",
      " [ 0.      0.1268 -0.2836 -0.877  -0.139   0.1117]\n",
      " [ 0.      0.0569 -0.1986 -0.0911 -0.3627  0.2341]]\n"
     ]
    }
   ],
   "source": [
    "#Try to get the logic of Gaussian elimination one step at a time. \n",
    "\n",
    "S = build_S(A,y)\n",
    "\n",
    "j = 0 \n",
    "\n",
    "S[j] /= S[j,j]\n",
    "\n",
    "k = 1\n",
    "\n",
    "S[k] -= S[j] * S[k,j]\n",
    "\n",
    "print(S)\n",
    "\n",
    "S[j] /= S[j,j]\n",
    "\n",
    "for k in range(1,n):\n",
    "    S[k] -= S[j] * S[k,j]\n",
    "\n",
    "print(S)"
   ]
  },
  {
   "cell_type": "markdown",
   "id": "5d5a7656-0ce9-4311-bc0f-af029fdf7ad5",
   "metadata": {},
   "source": [
    "<br>\n",
    "<br>\n",
    "We can do operations to multiple right-hand-side vectors at the same time."
   ]
  },
  {
   "cell_type": "code",
   "execution_count": 66,
   "id": "11e68d85",
   "metadata": {},
   "outputs": [
    {
     "name": "stdout",
     "output_type": "stream",
     "text": [
      "A:\n",
      "[[0.6778 0.684  0.3509 0.7479 0.3295]\n",
      " [0.9738 0.3855 0.6974 0.1157 0.881 ]\n",
      " [0.0114 0.1374 0.1171 0.4485 0.7061]\n",
      " [0.037  0.285  0.2774 0.2526 0.8313]\n",
      " [0.4033 0.5254 0.7048 0.7873 0.3339]] \n",
      "\n",
      "y:\n",
      "[[0.7118 0.6483]\n",
      " [0.9766 0.5665]\n",
      " [0.606  0.2273]\n",
      " [0.355  0.2776]\n",
      " [0.0386 0.849 ]] \n",
      "\n"
     ]
    }
   ],
   "source": [
    "n = 5\n",
    "p = 2\n",
    "A = np.random.random((n,n))\n",
    "y = np.random.random((n,p))\n",
    "\n",
    "x = np.linalg.solve(A,y)\n",
    "\n",
    "print('A:')\n",
    "print(A,'\\n')\n",
    "print('y:')\n",
    "print(y,'\\n')"
   ]
  },
  {
   "cell_type": "code",
   "execution_count": 67,
   "id": "16c60ec0",
   "metadata": {},
   "outputs": [
    {
     "name": "stdout",
     "output_type": "stream",
     "text": [
      "S=[A,y]:\n",
      "[[0.6778 0.684  0.3509 0.7479 0.3295 0.7118 0.6483]\n",
      " [0.9738 0.3855 0.6974 0.1157 0.881  0.9766 0.5665]\n",
      " [0.0114 0.1374 0.1171 0.4485 0.7061 0.606  0.2273]\n",
      " [0.037  0.285  0.2774 0.2526 0.8313 0.355  0.2776]\n",
      " [0.4033 0.5254 0.7048 0.7873 0.3339 0.0386 0.849 ]]\n"
     ]
    }
   ],
   "source": [
    "S = np.zeros((n,n+y.shape[1]))\n",
    "S[:,:n] = A\n",
    "S[:,n:] = y\n",
    "print('S=[A,y]:')\n",
    "print(S)"
   ]
  },
  {
   "cell_type": "code",
   "execution_count": 68,
   "id": "cbdfde15",
   "metadata": {},
   "outputs": [],
   "source": [
    "def forward_sweep(S,show=True):\n",
    "    n = len(S)\n",
    "    for j in range(n):\n",
    "        S[j,j:] /= S[j,j]\n",
    "        \n",
    "        if show: \n",
    "            print(S,'\\n')\n",
    "            \n",
    "        for k in range(j+1,n):\n",
    "            S[k,j:] -= S[j,j:]*S[k,j]\n",
    "            \n",
    "            if show: \n",
    "                print(S,'\\n')\n",
    "    pass"
   ]
  },
  {
   "cell_type": "code",
   "execution_count": 69,
   "id": "d3d846ee",
   "metadata": {},
   "outputs": [
    {
     "name": "stdout",
     "output_type": "stream",
     "text": [
      "[[1.     1.0091 0.5178 1.1034 0.4861 1.0502 0.9565]\n",
      " [0.9738 0.3855 0.6974 0.1157 0.881  0.9766 0.5665]\n",
      " [0.0114 0.1374 0.1171 0.4485 0.7061 0.606  0.2273]\n",
      " [0.037  0.285  0.2774 0.2526 0.8313 0.355  0.2776]\n",
      " [0.4033 0.5254 0.7048 0.7873 0.3339 0.0386 0.849 ]] \n",
      "\n",
      "[[ 1.      1.0091  0.5178  1.1034  0.4861  1.0502  0.9565]\n",
      " [ 0.     -0.5972  0.1932 -0.9589  0.4077 -0.0462 -0.3649]\n",
      " [ 0.0114  0.1374  0.1171  0.4485  0.7061  0.606   0.2273]\n",
      " [ 0.037   0.285   0.2774  0.2526  0.8313  0.355   0.2776]\n",
      " [ 0.4033  0.5254  0.7048  0.7873  0.3339  0.0386  0.849 ]] \n",
      "\n",
      "[[ 1.      1.0091  0.5178  1.1034  0.4861  1.0502  0.9565]\n",
      " [ 0.     -0.5972  0.1932 -0.9589  0.4077 -0.0462 -0.3649]\n",
      " [ 0.      0.1259  0.1112  0.4359  0.7005  0.5941  0.2164]\n",
      " [ 0.037   0.285   0.2774  0.2526  0.8313  0.355   0.2776]\n",
      " [ 0.4033  0.5254  0.7048  0.7873  0.3339  0.0386  0.849 ]] \n",
      "\n",
      "[[ 1.      1.0091  0.5178  1.1034  0.4861  1.0502  0.9565]\n",
      " [ 0.     -0.5972  0.1932 -0.9589  0.4077 -0.0462 -0.3649]\n",
      " [ 0.      0.1259  0.1112  0.4359  0.7005  0.5941  0.2164]\n",
      " [ 0.      0.2477  0.2583  0.2118  0.8134  0.3162  0.2422]\n",
      " [ 0.4033  0.5254  0.7048  0.7873  0.3339  0.0386  0.849 ]] \n",
      "\n",
      "[[ 1.      1.0091  0.5178  1.1034  0.4861  1.0502  0.9565]\n",
      " [ 0.     -0.5972  0.1932 -0.9589  0.4077 -0.0462 -0.3649]\n",
      " [ 0.      0.1259  0.1112  0.4359  0.7005  0.5941  0.2164]\n",
      " [ 0.      0.2477  0.2583  0.2118  0.8134  0.3162  0.2422]\n",
      " [ 0.      0.1184  0.496   0.3422  0.1379 -0.3849  0.4632]] \n",
      "\n",
      "[[ 1.      1.0091  0.5178  1.1034  0.4861  1.0502  0.9565]\n",
      " [ 0.      1.     -0.3235  1.6056 -0.6826  0.0773  0.611 ]\n",
      " [ 0.      0.1259  0.1112  0.4359  0.7005  0.5941  0.2164]\n",
      " [ 0.      0.2477  0.2583  0.2118  0.8134  0.3162  0.2422]\n",
      " [ 0.      0.1184  0.496   0.3422  0.1379 -0.3849  0.4632]] \n",
      "\n",
      "[[ 1.      1.0091  0.5178  1.1034  0.4861  1.0502  0.9565]\n",
      " [ 0.      1.     -0.3235  1.6056 -0.6826  0.0773  0.611 ]\n",
      " [ 0.      0.      0.1519  0.2338  0.7865  0.5843  0.1395]\n",
      " [ 0.      0.2477  0.2583  0.2118  0.8134  0.3162  0.2422]\n",
      " [ 0.      0.1184  0.496   0.3422  0.1379 -0.3849  0.4632]] \n",
      "\n",
      "[[ 1.      1.0091  0.5178  1.1034  0.4861  1.0502  0.9565]\n",
      " [ 0.      1.     -0.3235  1.6056 -0.6826  0.0773  0.611 ]\n",
      " [ 0.      0.      0.1519  0.2338  0.7865  0.5843  0.1395]\n",
      " [ 0.      0.      0.3384 -0.1859  0.9824  0.2971  0.0909]\n",
      " [ 0.      0.1184  0.496   0.3422  0.1379 -0.3849  0.4632]] \n",
      "\n",
      "[[ 1.      1.0091  0.5178  1.1034  0.4861  1.0502  0.9565]\n",
      " [ 0.      1.     -0.3235  1.6056 -0.6826  0.0773  0.611 ]\n",
      " [ 0.      0.      0.1519  0.2338  0.7865  0.5843  0.1395]\n",
      " [ 0.      0.      0.3384 -0.1859  0.9824  0.2971  0.0909]\n",
      " [ 0.      0.      0.5343  0.1521  0.2187 -0.3941  0.3909]] \n",
      "\n",
      "[[ 1.      1.0091  0.5178  1.1034  0.4861  1.0502  0.9565]\n",
      " [ 0.      1.     -0.3235  1.6056 -0.6826  0.0773  0.611 ]\n",
      " [ 0.      0.      1.      1.539   5.1759  3.8456  0.9184]\n",
      " [ 0.      0.      0.3384 -0.1859  0.9824  0.2971  0.0909]\n",
      " [ 0.      0.      0.5343  0.1521  0.2187 -0.3941  0.3909]] \n",
      "\n",
      "[[ 1.      1.0091  0.5178  1.1034  0.4861  1.0502  0.9565]\n",
      " [ 0.      1.     -0.3235  1.6056 -0.6826  0.0773  0.611 ]\n",
      " [ 0.      0.      1.      1.539   5.1759  3.8456  0.9184]\n",
      " [ 0.      0.      0.     -0.7067 -0.7693 -1.0044 -0.2199]\n",
      " [ 0.      0.      0.5343  0.1521  0.2187 -0.3941  0.3909]] \n",
      "\n",
      "[[ 1.      1.0091  0.5178  1.1034  0.4861  1.0502  0.9565]\n",
      " [ 0.      1.     -0.3235  1.6056 -0.6826  0.0773  0.611 ]\n",
      " [ 0.      0.      1.      1.539   5.1759  3.8456  0.9184]\n",
      " [ 0.      0.      0.     -0.7067 -0.7693 -1.0044 -0.2199]\n",
      " [ 0.      0.      0.     -0.6702 -2.5468 -2.4488 -0.0998]] \n",
      "\n",
      "[[ 1.      1.0091  0.5178  1.1034  0.4861  1.0502  0.9565]\n",
      " [ 0.      1.     -0.3235  1.6056 -0.6826  0.0773  0.611 ]\n",
      " [ 0.      0.      1.      1.539   5.1759  3.8456  0.9184]\n",
      " [ 0.      0.      0.      1.      1.0885  1.4213  0.3112]\n",
      " [ 0.      0.      0.     -0.6702 -2.5468 -2.4488 -0.0998]] \n",
      "\n",
      "[[ 1.      1.0091  0.5178  1.1034  0.4861  1.0502  0.9565]\n",
      " [ 0.      1.     -0.3235  1.6056 -0.6826  0.0773  0.611 ]\n",
      " [ 0.      0.      1.      1.539   5.1759  3.8456  0.9184]\n",
      " [ 0.      0.      0.      1.      1.0885  1.4213  0.3112]\n",
      " [ 0.      0.      0.      0.     -1.8173 -1.4963  0.1087]] \n",
      "\n",
      "[[ 1.      1.0091  0.5178  1.1034  0.4861  1.0502  0.9565]\n",
      " [ 0.      1.     -0.3235  1.6056 -0.6826  0.0773  0.611 ]\n",
      " [ 0.      0.      1.      1.539   5.1759  3.8456  0.9184]\n",
      " [ 0.      0.      0.      1.      1.0885  1.4213  0.3112]\n",
      " [ 0.      0.      0.      0.      1.      0.8234 -0.0598]] \n",
      "\n"
     ]
    }
   ],
   "source": [
    "forward_sweep(S)"
   ]
  },
  {
   "cell_type": "code",
   "execution_count": 70,
   "id": "c89f6841",
   "metadata": {},
   "outputs": [],
   "source": [
    "def back_sweep(S,show=True):\n",
    "    n = len(S)\n",
    "    for j in range(1,n):\n",
    "        for k in range(n-j):\n",
    "            S[k,n-j:] -= S[k,n-j]*S[n-j,n-j:]\n",
    "            \n",
    "            if show: \n",
    "                print(S,'\\n')\n",
    "    pass"
   ]
  },
  {
   "cell_type": "code",
   "execution_count": 71,
   "id": "9e0b8f9d",
   "metadata": {},
   "outputs": [
    {
     "name": "stdout",
     "output_type": "stream",
     "text": [
      "[[ 1.      1.0091  0.5178  1.1034  0.      0.65    0.9855]\n",
      " [ 0.      1.     -0.3235  1.6056 -0.6826  0.0773  0.611 ]\n",
      " [ 0.      0.      1.      1.539   5.1759  3.8456  0.9184]\n",
      " [ 0.      0.      0.      1.      1.0885  1.4213  0.3112]\n",
      " [ 0.      0.      0.      0.      1.      0.8234 -0.0598]] \n",
      "\n",
      "[[ 1.      1.0091  0.5178  1.1034  0.      0.65    0.9855]\n",
      " [ 0.      1.     -0.3235  1.6056  0.      0.6394  0.5702]\n",
      " [ 0.      0.      1.      1.539   5.1759  3.8456  0.9184]\n",
      " [ 0.      0.      0.      1.      1.0885  1.4213  0.3112]\n",
      " [ 0.      0.      0.      0.      1.      0.8234 -0.0598]] \n",
      "\n",
      "[[ 1.      1.0091  0.5178  1.1034  0.      0.65    0.9855]\n",
      " [ 0.      1.     -0.3235  1.6056  0.      0.6394  0.5702]\n",
      " [ 0.      0.      1.      1.539   0.     -0.416   1.228 ]\n",
      " [ 0.      0.      0.      1.      1.0885  1.4213  0.3112]\n",
      " [ 0.      0.      0.      0.      1.      0.8234 -0.0598]] \n",
      "\n",
      "[[ 1.      1.0091  0.5178  1.1034  0.      0.65    0.9855]\n",
      " [ 0.      1.     -0.3235  1.6056  0.      0.6394  0.5702]\n",
      " [ 0.      0.      1.      1.539   0.     -0.416   1.228 ]\n",
      " [ 0.      0.      0.      1.      0.      0.5251  0.3763]\n",
      " [ 0.      0.      0.      0.      1.      0.8234 -0.0598]] \n",
      "\n",
      "[[ 1.      1.0091  0.5178  0.      0.      0.0706  0.5703]\n",
      " [ 0.      1.     -0.3235  1.6056  0.      0.6394  0.5702]\n",
      " [ 0.      0.      1.      1.539   0.     -0.416   1.228 ]\n",
      " [ 0.      0.      0.      1.      0.      0.5251  0.3763]\n",
      " [ 0.      0.      0.      0.      1.      0.8234 -0.0598]] \n",
      "\n",
      "[[ 1.      1.0091  0.5178  0.      0.      0.0706  0.5703]\n",
      " [ 0.      1.     -0.3235  0.      0.     -0.2037 -0.034 ]\n",
      " [ 0.      0.      1.      1.539   0.     -0.416   1.228 ]\n",
      " [ 0.      0.      0.      1.      0.      0.5251  0.3763]\n",
      " [ 0.      0.      0.      0.      1.      0.8234 -0.0598]] \n",
      "\n",
      "[[ 1.      1.0091  0.5178  0.      0.      0.0706  0.5703]\n",
      " [ 0.      1.     -0.3235  0.      0.     -0.2037 -0.034 ]\n",
      " [ 0.      0.      1.      0.      0.     -1.224   0.6489]\n",
      " [ 0.      0.      0.      1.      0.      0.5251  0.3763]\n",
      " [ 0.      0.      0.      0.      1.      0.8234 -0.0598]] \n",
      "\n",
      "[[ 1.      1.0091  0.      0.      0.      0.7044  0.2343]\n",
      " [ 0.      1.     -0.3235  0.      0.     -0.2037 -0.034 ]\n",
      " [ 0.      0.      1.      0.      0.     -1.224   0.6489]\n",
      " [ 0.      0.      0.      1.      0.      0.5251  0.3763]\n",
      " [ 0.      0.      0.      0.      1.      0.8234 -0.0598]] \n",
      "\n",
      "[[ 1.      1.0091  0.      0.      0.      0.7044  0.2343]\n",
      " [ 0.      1.      0.      0.      0.     -0.5997  0.176 ]\n",
      " [ 0.      0.      1.      0.      0.     -1.224   0.6489]\n",
      " [ 0.      0.      0.      1.      0.      0.5251  0.3763]\n",
      " [ 0.      0.      0.      0.      1.      0.8234 -0.0598]] \n",
      "\n",
      "[[ 1.      0.      0.      0.      0.      1.3096  0.0568]\n",
      " [ 0.      1.      0.      0.      0.     -0.5997  0.176 ]\n",
      " [ 0.      0.      1.      0.      0.     -1.224   0.6489]\n",
      " [ 0.      0.      0.      1.      0.      0.5251  0.3763]\n",
      " [ 0.      0.      0.      0.      1.      0.8234 -0.0598]] \n",
      "\n"
     ]
    }
   ],
   "source": [
    "back_sweep(S,show=True)"
   ]
  },
  {
   "cell_type": "code",
   "execution_count": 95,
   "id": "98ad74f3-8ab3-41d2-bfeb-1bb5da9c5dfd",
   "metadata": {},
   "outputs": [
    {
     "name": "stdout",
     "output_type": "stream",
     "text": [
      "[[ 0.  0.]\n",
      " [ 0. -0.]\n",
      " [-0.  0.]\n",
      " [-0.  0.]\n",
      " [-0.  0.]]\n"
     ]
    }
   ],
   "source": [
    "print(A @ S[:,-y.shape[1]:] - y)"
   ]
  },
  {
   "cell_type": "markdown",
   "id": "ec159bcb",
   "metadata": {},
   "source": [
    "<br>\n",
    "<br>"
   ]
  },
  {
   "cell_type": "markdown",
   "id": "a03d977f",
   "metadata": {},
   "source": [
    "Here are some interesting matrices that we can use as examples. Things like this occur in quantum information science. \n",
    "\n",
    "$\\large n=4$\n",
    "$$\\large\n",
    "I = \\left(\n",
    "\\begin{array}{cccc}\n",
    " 1 & 0 & 0 & 0  \\\\\n",
    " 0 & 1 & 0 & 0  \\\\\n",
    " 0 & 0 & 1 & 0  \\\\\n",
    " 0 & 0 & 0 & 1  \\\\\n",
    "\\end{array}\n",
    "\\right) , \\qquad \\qquad E = \\frac{1}{n}\\,\\left(\n",
    "\\begin{array}{cccc}\n",
    " 1 & 1 & 1 & 1  \\\\\n",
    " 1 & 1 & 1 & 1  \\\\\n",
    " 1 & 1 & 1 & 1  \\\\\n",
    " 1 & 1 & 1 & 1  \\\\\n",
    "\\end{array}\n",
    "\\right)\n",
    "$$\n",
    "\n",
    "<br>\n",
    "\n",
    "<br>\n",
    "\n",
    "## Algebra \n",
    "\n",
    "$$\\large \n",
    "I^{2} = I, \\qquad I E = E I = E, \\qquad E^{2} = E\n",
    "$$\n",
    "\n",
    "<br>\n",
    "<br>\n",
    "\n",
    "$$\\large\n",
    "(a\\, I + b \\, E)\\, (c\\, I + d \\, E) \\ = \\ a c \\, I + ( a d + b c + b d ) \\, E\n",
    "$$\n",
    "\n",
    "<br>\n",
    "\n",
    "\n",
    "<br>\n",
    "\n",
    "Also\n",
    "\n",
    "$$\\large\n",
    "(\\,a\\, I + b \\, E\\,)^{-1} \\ = \\ \\frac{1}{a}\\, I  - \\frac{b}{a ( a + b )}\\, E\n",
    "$$\n",
    "\n",
    "<br>\n",
    "\n",
    "There's only a true problem if $a = 0$ or $b = - a$. \n",
    "\n",
    "<br>\n",
    "\n",
    "But depending on the values, we can get something that fails with simple Gaussian elimination. It's ok when this happens; we just need to swap."
   ]
  },
  {
   "cell_type": "code",
   "execution_count": 124,
   "id": "c73cfeed",
   "metadata": {},
   "outputs": [],
   "source": [
    "def M(n,a,b):\n",
    "    return a * np.eye(n) + (b/n) * np.ones((n,n))"
   ]
  },
  {
   "cell_type": "code",
   "execution_count": 125,
   "id": "4a87484b-d093-4d59-80c3-727c52280d72",
   "metadata": {},
   "outputs": [
    {
     "data": {
      "text/plain": [
       "array([[-0.,  0.,  0.,  0.,  0.],\n",
       "       [ 0., -0.,  0.,  0.,  0.],\n",
       "       [ 0.,  0., -0.,  0.,  0.],\n",
       "       [ 0.,  0.,  0., -0.,  0.],\n",
       "       [ 0.,  0.,  0.,  0.,  0.]])"
      ]
     },
     "execution_count": 125,
     "metadata": {},
     "output_type": "execute_result"
    }
   ],
   "source": [
    "n = 5\n",
    "a, b = 3, 2 \n",
    "c, d = 4, 5\n",
    "M(n,a,b) @ M(n,c,d) - M(n, a*c, a*d + b*c + b*d)"
   ]
  },
  {
   "cell_type": "code",
   "execution_count": 144,
   "id": "e20ee6d0",
   "metadata": {},
   "outputs": [
    {
     "name": "stdout",
     "output_type": "stream",
     "text": [
      "A:\n",
      "[[ 2. -1. -1. -1.]\n",
      " [-1.  2. -1. -1.]\n",
      " [-1. -1.  2. -1.]\n",
      " [-1. -1. -1.  2.]] \n",
      "\n",
      "y:\n",
      "[[0.5956]\n",
      " [0.9954]\n",
      " [0.8583]\n",
      " [0.4466]] \n",
      "\n",
      "x:\n",
      "[[-0.7668]\n",
      " [-0.6335]\n",
      " [-0.6792]\n",
      " [-0.8165]]\n"
     ]
    }
   ],
   "source": [
    "n = 4\n",
    "a = 3\n",
    "b = -n\n",
    "A = M(n,a,b)\n",
    "y = np.random.random((n,1))\n",
    "x = np.linalg.solve(A,y)\n",
    "\n",
    "print('A:')\n",
    "print(A,'\\n')\n",
    "print('y:')\n",
    "print(y,'\\n')\n",
    "print('x:')\n",
    "print(x)"
   ]
  },
  {
   "cell_type": "code",
   "execution_count": 145,
   "id": "cc2ba214",
   "metadata": {},
   "outputs": [
    {
     "name": "stdout",
     "output_type": "stream",
     "text": [
      "[[ 0.     -0.3333 -0.3333 -0.3333]\n",
      " [-0.3333  0.     -0.3333 -0.3333]\n",
      " [-0.3333 -0.3333 -0.     -0.3333]\n",
      " [-0.3333 -0.3333 -0.3333 -0.    ]]\n"
     ]
    }
   ],
   "source": [
    "print(np.linalg.inv(A))"
   ]
  },
  {
   "cell_type": "code",
   "execution_count": 146,
   "id": "7cb4bb13",
   "metadata": {},
   "outputs": [],
   "source": [
    "S = build_S(A,y[0])"
   ]
  },
  {
   "cell_type": "code",
   "execution_count": 147,
   "id": "1726d5e4",
   "metadata": {},
   "outputs": [
    {
     "data": {
      "text/plain": [
       "array([[ 2.    , -1.    , -1.    , -1.    ,  0.5956],\n",
       "       [-1.    ,  2.    , -1.    , -1.    ,  0.5956],\n",
       "       [-1.    , -1.    ,  2.    , -1.    ,  0.5956],\n",
       "       [-1.    , -1.    , -1.    ,  2.    ,  0.5956]])"
      ]
     },
     "execution_count": 147,
     "metadata": {},
     "output_type": "execute_result"
    }
   ],
   "source": [
    "S"
   ]
  },
  {
   "cell_type": "code",
   "execution_count": 148,
   "id": "f7106fb0",
   "metadata": {},
   "outputs": [
    {
     "name": "stdout",
     "output_type": "stream",
     "text": [
      "[[ 1.     -0.5    -0.5    -0.5     0.2978]\n",
      " [-1.      2.     -1.     -1.      0.5956]\n",
      " [-1.     -1.      2.     -1.      0.5956]\n",
      " [-1.     -1.     -1.      2.      0.5956]] \n",
      "\n",
      "[[ 1.     -0.5    -0.5    -0.5     0.2978]\n",
      " [ 0.      1.5    -1.5    -1.5     0.8934]\n",
      " [-1.     -1.      2.     -1.      0.5956]\n",
      " [-1.     -1.     -1.      2.      0.5956]] \n",
      "\n",
      "[[ 1.     -0.5    -0.5    -0.5     0.2978]\n",
      " [ 0.      1.5    -1.5    -1.5     0.8934]\n",
      " [ 0.     -1.5     1.5    -1.5     0.8934]\n",
      " [-1.     -1.     -1.      2.      0.5956]] \n",
      "\n",
      "[[ 1.     -0.5    -0.5    -0.5     0.2978]\n",
      " [ 0.      1.5    -1.5    -1.5     0.8934]\n",
      " [ 0.     -1.5     1.5    -1.5     0.8934]\n",
      " [ 0.     -1.5    -1.5     1.5     0.8934]] \n",
      "\n",
      "[[ 1.     -0.5    -0.5    -0.5     0.2978]\n",
      " [ 0.      1.     -1.     -1.      0.5956]\n",
      " [ 0.     -1.5     1.5    -1.5     0.8934]\n",
      " [ 0.     -1.5    -1.5     1.5     0.8934]] \n",
      "\n",
      "[[ 1.     -0.5    -0.5    -0.5     0.2978]\n",
      " [ 0.      1.     -1.     -1.      0.5956]\n",
      " [ 0.      0.      0.     -3.      1.7869]\n",
      " [ 0.     -1.5    -1.5     1.5     0.8934]] \n",
      "\n",
      "[[ 1.     -0.5    -0.5    -0.5     0.2978]\n",
      " [ 0.      1.     -1.     -1.      0.5956]\n",
      " [ 0.      0.      0.     -3.      1.7869]\n",
      " [ 0.      0.     -3.      0.      1.7869]] \n",
      "\n",
      "[[ 1.     -0.5    -0.5    -0.5     0.2978]\n",
      " [ 0.      1.     -1.     -1.      0.5956]\n",
      " [ 0.      0.         nan    -inf     inf]\n",
      " [ 0.      0.     -3.      0.      1.7869]] \n",
      "\n",
      "[[ 1.     -0.5    -0.5    -0.5     0.2978]\n",
      " [ 0.      1.     -1.     -1.      0.5956]\n",
      " [ 0.      0.         nan    -inf     inf]\n",
      " [ 0.      0.         nan    -inf     inf]] \n",
      "\n",
      "[[ 1.     -0.5    -0.5    -0.5     0.2978]\n",
      " [ 0.      1.     -1.     -1.      0.5956]\n",
      " [ 0.      0.         nan    -inf     inf]\n",
      " [ 0.      0.         nan     nan     nan]] \n",
      "\n"
     ]
    },
    {
     "name": "stderr",
     "output_type": "stream",
     "text": [
      "/var/folders/9t/l8z7ryss4ksbcwtsn1rzxln00000gn/T/ipykernel_53481/298669992.py:4: RuntimeWarning: divide by zero encountered in divide\n",
      "  S[j,j:] /= S[j,j]\n",
      "/var/folders/9t/l8z7ryss4ksbcwtsn1rzxln00000gn/T/ipykernel_53481/298669992.py:4: RuntimeWarning: invalid value encountered in divide\n",
      "  S[j,j:] /= S[j,j]\n"
     ]
    }
   ],
   "source": [
    "forward_sweep(S)"
   ]
  },
  {
   "cell_type": "code",
   "execution_count": null,
   "id": "3d69b0cc",
   "metadata": {},
   "outputs": [],
   "source": []
  },
  {
   "cell_type": "code",
   "execution_count": null,
   "id": "902c8934",
   "metadata": {},
   "outputs": [],
   "source": []
  },
  {
   "cell_type": "code",
   "execution_count": null,
   "id": "eda2500f-92cf-412c-8504-ea809bc83723",
   "metadata": {},
   "outputs": [],
   "source": []
  }
 ],
 "metadata": {
  "kernelspec": {
   "display_name": "Python 3 (ipykernel)",
   "language": "python",
   "name": "python3"
  },
  "language_info": {
   "codemirror_mode": {
    "name": "ipython",
    "version": 3
   },
   "file_extension": ".py",
   "mimetype": "text/x-python",
   "name": "python",
   "nbconvert_exporter": "python",
   "pygments_lexer": "ipython3",
   "version": "3.12.0"
  }
 },
 "nbformat": 4,
 "nbformat_minor": 5
}
